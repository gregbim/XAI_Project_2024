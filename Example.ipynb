{
 "cells": [
  {
   "cell_type": "code",
   "execution_count": null,
   "metadata": {},
   "outputs": [],
   "source": []
  },
  {
   "cell_type": "markdown",
   "metadata": {},
   "source": [
    "INstallation du client PROCGEN"
   ]
  },
  {
   "cell_type": "code",
   "execution_count": null,
   "metadata": {},
   "outputs": [],
   "source": [
    "!pip install procgen"
   ]
  },
  {
   "cell_type": "markdown",
   "metadata": {},
   "source": [
    "Instanciation of the environment"
   ]
  },
  {
   "cell_type": "code",
   "execution_count": null,
   "metadata": {},
   "outputs": [],
   "source": [
    "import torch\n",
    "from procgen import ProcgenEnv\n",
    "from procgen_wrappers import VecExtractDictObs, TransposeFrame, ScaledFloatFrame\n",
    "\n",
    "env = ProcgenEnv(\n",
    "        num_envs=1,\n",
    "        env_name=\"fruitbot\",\n",
    "        start_level=0,\n",
    "        num_levels=100,\n",
    "        distribution_mode='easy',\n",
    "    )\n",
    "\n",
    "env = VecExtractDictObs(env, \"rgb\")\n",
    "env = TransposeFrame(env)\n",
    "env = ScaledFloatFrame(env)"
   ]
  },
  {
   "cell_type": "markdown",
   "metadata": {},
   "source": [
    "The Agent class is defined in the agent.py file.\n",
    "An agent is composed of a feature extractor and a policy. The feature extractor is a neural network that takes the image as input and outputs a vector of features. The policy is a neural network that takes the features as input and outputs a score for each action. The action with the highest score is the one that is chosen.\n",
    "\n",
    "You can use it as follows:"
   ]
  },
  {
   "cell_type": "code",
   "execution_count": null,
   "metadata": {},
   "outputs": [],
   "source": [
    "from agent import Agent\n",
    "\n",
    "agent = Agent()\n",
    "agent.load_state_dict(torch.load('agent_weights.pth'))\n",
    "agent.eval()"
   ]
  },
  {
   "cell_type": "markdown",
   "metadata": {},
   "source": []
  },
  {
   "cell_type": "code",
   "execution_count": null,
   "metadata": {},
   "outputs": [],
   "source": [
    "obs = env.reset()\n",
    "\n",
    "while True:\n",
    "    frames.append(obs)\n",
    "    obs = torch.FloatTensor(obs).to('cuda')\n",
    "    action = agent(obs).argmax(1).cpu().numpy()\n",
    "    obs, _, done ,_ = env.step(action)\n",
    "    img = env.render()\n",
    "    if done[0]:\n",
    "        break\n",
    "\n",
    "env.close()"
   ]
  }
 ],
 "metadata": {
  "language_info": {
   "name": "python"
  }
 },
 "nbformat": 4,
 "nbformat_minor": 2
}
